{
 "cells": [
  {
   "cell_type": "markdown",
   "metadata": {
    "application/vnd.databricks.v1+cell": {
     "cellMetadata": {
      "byteLimit": 2048000,
      "rowLimit": 10000
     },
     "inputWidgets": {},
     "nuid": "c4d82bad-33ab-4ad5-86a1-75f85fb87bd5",
     "showTitle": false,
     "title": ""
    }
   },
   "source": [
    "# 1. Setup\n",
    "Install Confluent-Kafka client"
   ]
  },
  {
   "cell_type": "code",
   "execution_count": null,
   "metadata": {
    "application/vnd.databricks.v1+cell": {
     "cellMetadata": {
      "byteLimit": 2048000,
      "rowLimit": 10000
     },
     "inputWidgets": {},
     "nuid": "ac26a975-2f61-41a2-822e-eb57be3d3074",
     "showTitle": false,
     "title": ""
    }
   },
   "outputs": [
    {
     "name": "stdout",
     "output_type": "stream",
     "text": [
      "Requirement already satisfied: confluent-kafka in /local_disk0/.ephemeral_nfs/envs/pythonEnv-dada97a2-59f3-4e34-a482-bc1436edd614/lib/python3.9/site-packages (2.3.0)\r\n",
      "\u001b[33mWARNING: You are using pip version 21.2.4; however, version 24.0 is available.\r\n",
      "You should consider upgrading via the '/local_disk0/.ephemeral_nfs/envs/pythonEnv-dada97a2-59f3-4e34-a482-bc1436edd614/bin/python -m pip install --upgrade pip' command.\u001b[0m\r\n"
     ]
    }
   ],
   "source": [
    "! pip install confluent-kafka"
   ]
  },
  {
   "cell_type": "code",
   "execution_count": null,
   "metadata": {
    "application/vnd.databricks.v1+cell": {
     "cellMetadata": {
      "byteLimit": 2048000,
      "rowLimit": 10000
     },
     "inputWidgets": {},
     "nuid": "df25c77d-5d29-4e6b-adf9-9d326a637ef7",
     "showTitle": false,
     "title": ""
    }
   },
   "outputs": [
    {
     "name": "stdout",
     "output_type": "stream",
     "text": [
      "Name: confluent-kafka\r\n",
      "Version: 2.3.0\r\n",
      "Summary: Confluent's Python client for Apache Kafka\r\n",
      "Home-page: https://github.com/confluentinc/confluent-kafka-python\r\n",
      "Author: Confluent Inc\r\n",
      "Author-email: support@confluent.io\r\n",
      "License: \r\n",
      "Location: /local_disk0/.ephemeral_nfs/envs/pythonEnv-dada97a2-59f3-4e34-a482-bc1436edd614/lib/python3.9/site-packages\r\n",
      "Requires: \r\n",
      "Required-by: \r\n"
     ]
    }
   ],
   "source": [
    "! pip show confluent-kafka"
   ]
  },
  {
   "cell_type": "markdown",
   "metadata": {
    "application/vnd.databricks.v1+cell": {
     "cellMetadata": {
      "byteLimit": 2048000,
      "rowLimit": 10000
     },
     "inputWidgets": {},
     "nuid": "dbbf8270-3971-42a8-bc12-4fae897f64a7",
     "showTitle": false,
     "title": ""
    }
   },
   "source": [
    "# 2. Batch Processing"
   ]
  },
  {
   "cell_type": "markdown",
   "metadata": {
    "application/vnd.databricks.v1+cell": {
     "cellMetadata": {
      "byteLimit": 2048000,
      "rowLimit": 10000
     },
     "inputWidgets": {},
     "nuid": "7762e614-c3b2-4f62-b003-b819a4b86f62",
     "showTitle": false,
     "title": ""
    }
   },
   "source": [
    "## 2.1. Load topic data from Confluent in batch mode"
   ]
  },
  {
   "cell_type": "code",
   "execution_count": null,
   "metadata": {
    "application/vnd.databricks.v1+cell": {
     "cellMetadata": {
      "byteLimit": 2048000,
      "rowLimit": 10000
     },
     "inputWidgets": {},
     "nuid": "0507f9c3-59a7-40e9-9bbf-ba531d2ccc62",
     "showTitle": false,
     "title": ""
    }
   },
   "outputs": [
    {
     "data": {
      "text/html": [
       "<style scoped>\n",
       "  .table-result-container {\n",
       "    max-height: 300px;\n",
       "    overflow: auto;\n",
       "  }\n",
       "  table, th, td {\n",
       "    border: 1px solid black;\n",
       "    border-collapse: collapse;\n",
       "  }\n",
       "  th, td {\n",
       "    padding: 5px;\n",
       "  }\n",
       "  th {\n",
       "    text-align: left;\n",
       "  }\n",
       "</style><div class='table-result-container'><table class='table-result'><thead style='background-color: white'><tr><th>key</th><th>value</th><th>topic</th><th>partition</th><th>offset</th><th>timestamp</th><th>timestampType</th></tr></thead><tbody><tr><td>Mw==</td><td>eyJuYW1lIjogIkpvaG4gRG9lIiwgImFnZSI6IDM1LCAiZW1haWwiOiAiam9obi5kb2VAZ21haWwuY29tIn0=</td><td>topic_1</td><td>5</td><td>0</td><td>2024-03-30T21:30:30.634+0000</td><td>0</td></tr><tr><td>MQ==</td><td>eyJuYW1lIjogIkphbmUgRG9lIiwgImFnZSI6IDI5LCAiZW1haWwiOiAiamFuZS5kb2VAZ21haWwuY29tIn0=</td><td>topic_1</td><td>3</td><td>0</td><td>2024-03-30T21:30:30.604+0000</td><td>0</td></tr><tr><td>Mg==</td><td>eyJuYW1lIjogIkZhdGloIiwgImFnZSI6IDI0LCAiZW1haWwiOiAiZi5uYXllYmlAZ21haWwuY29tIn0=</td><td>topic_1</td><td>2</td><td>0</td><td>2024-03-30T21:30:30.736+0000</td><td>0</td></tr></tbody></table></div>"
      ]
     },
     "metadata": {
      "application/vnd.databricks.v1+output": {
       "addedWidgets": {},
       "aggData": [],
       "aggError": "",
       "aggOverflow": false,
       "aggSchema": [],
       "aggSeriesLimitReached": false,
       "aggType": "",
       "arguments": {},
       "columnCustomDisplayInfos": {},
       "data": [
        [
         "Mw==",
         "eyJuYW1lIjogIkpvaG4gRG9lIiwgImFnZSI6IDM1LCAiZW1haWwiOiAiam9obi5kb2VAZ21haWwuY29tIn0=",
         "topic_1",
         5,
         0,
         "2024-03-30T21:30:30.634+0000",
         0
        ],
        [
         "MQ==",
         "eyJuYW1lIjogIkphbmUgRG9lIiwgImFnZSI6IDI5LCAiZW1haWwiOiAiamFuZS5kb2VAZ21haWwuY29tIn0=",
         "topic_1",
         3,
         0,
         "2024-03-30T21:30:30.604+0000",
         0
        ],
        [
         "Mg==",
         "eyJuYW1lIjogIkZhdGloIiwgImFnZSI6IDI0LCAiZW1haWwiOiAiZi5uYXllYmlAZ21haWwuY29tIn0=",
         "topic_1",
         2,
         0,
         "2024-03-30T21:30:30.736+0000",
         0
        ]
       ],
       "datasetInfos": [],
       "dbfsResultPath": null,
       "isJsonSchema": true,
       "metadata": {},
       "overflow": false,
       "plotOptions": {
        "customPlotOptions": {},
        "displayType": "table",
        "pivotAggregation": null,
        "pivotColumns": null,
        "xColumns": null,
        "yColumns": null
       },
       "removedWidgets": [],
       "schema": [
        {
         "metadata": "{}",
         "name": "key",
         "type": "\"binary\""
        },
        {
         "metadata": "{}",
         "name": "value",
         "type": "\"binary\""
        },
        {
         "metadata": "{}",
         "name": "topic",
         "type": "\"string\""
        },
        {
         "metadata": "{}",
         "name": "partition",
         "type": "\"integer\""
        },
        {
         "metadata": "{}",
         "name": "offset",
         "type": "\"long\""
        },
        {
         "metadata": "{}",
         "name": "timestamp",
         "type": "\"timestamp\""
        },
        {
         "metadata": "{}",
         "name": "timestampType",
         "type": "\"integer\""
        }
       ],
       "type": "table"
      }
     },
     "output_type": "display_data"
    }
   ],
   "source": [
    "from pyspark.sql import functions\n",
    "topic_name = \"topic_1\"\n",
    "bootstrap_servers = \"pkc-4rn2p.canadacentral.azure.confluent.cloud:9092\"\n",
    "df_kafka = spark.read.format(\"kafka\")\\\n",
    "    .option(\"kafka.bootstrap.servers\", bootstrap_servers)\\\n",
    "    .option(\"subscribe\", topic_name)\\\n",
    "    .option(\"kafka.security.protocol\",\"SASL_SSL\")\\\n",
    "    .option(\"kafka.sasl.mechanism\", \"PLAIN\")\\\n",
    "    .option(\"kafka.sasl.jaas.config\", \"kafkashaded.org.apache.kafka.common.security.plain.PlainLoginModule required username=\\\"DMEFD5LIKVBOJCWD\\\" password=\\\"mUEgMQvRZHnL4ZqtkTUww6Dywxxr9HoDmmgzYW6jRGumni3FrstD3c0ERxplHc8j\\\";\")\\\n",
    "    .load()\n",
    "\n",
    "display(df_kafka)"
   ]
  },
  {
   "cell_type": "markdown",
   "metadata": {
    "application/vnd.databricks.v1+cell": {
     "cellMetadata": {
      "byteLimit": 2048000,
      "rowLimit": 10000
     },
     "inputWidgets": {},
     "nuid": "3fb1bdb6-a260-4257-b44f-d2d4501b27fd",
     "showTitle": false,
     "title": ""
    }
   },
   "source": [
    "## 2.2. Write a Kafka sink for batch queries"
   ]
  },
  {
   "cell_type": "markdown",
   "metadata": {
    "application/vnd.databricks.v1+cell": {
     "cellMetadata": {
      "byteLimit": 2048000,
      "rowLimit": 10000
     },
     "inputWidgets": {},
     "nuid": "e2dcf94a-c095-4ec3-836a-1688786aa656",
     "showTitle": false,
     "title": ""
    }
   },
   "source": [
    "### 2.2.1. Create sample data"
   ]
  },
  {
   "cell_type": "code",
   "execution_count": null,
   "metadata": {
    "application/vnd.databricks.v1+cell": {
     "cellMetadata": {
      "byteLimit": 2048000,
      "rowLimit": 10000
     },
     "inputWidgets": {},
     "nuid": "2f529c1e-d3ed-4bf6-91d8-6652bc468259",
     "showTitle": false,
     "title": ""
    }
   },
   "outputs": [],
   "source": [
    "# import pyspark class Row from module sql\n",
    "from pyspark.sql import *"
   ]
  },
  {
   "cell_type": "code",
   "execution_count": null,
   "metadata": {
    "application/vnd.databricks.v1+cell": {
     "cellMetadata": {
      "byteLimit": 2048000,
      "rowLimit": 10000
     },
     "inputWidgets": {},
     "nuid": "85462f01-c1b5-4970-8abc-3fa505337841",
     "showTitle": false,
     "title": ""
    }
   },
   "outputs": [
    {
     "name": "stdout",
     "output_type": "stream",
     "text": [
      "Row(key='1', value='{\"name\": \"Jane Doe\", \"age\": 29, \"email\": \"jane.doe@gmail.com\"}', topic='test-topic')\n"
     ]
    }
   ],
   "source": [
    "# Create the sample data\n",
    "sample_data = Row(\"key\", \"value\", \"topic\")\n",
    "sample1 = sample_data('1', '{\"name\": \"Jane Doe\", \"age\": 29, \"email\": \"jane.doe@gmail.com\"}', \"test-topic\")\n",
    "sample2 = sample_data('2', '{\"name\": \"Fatih\", \"age\": 24, \"email\": \"f.nayebi@gmail.com\"}', \"test-topic\")\n",
    "sample3 = sample_data('3', '{\"name\": \"John Doe\", \"age\": 35, \"email\": \"john.doe@gmail.com\"}', \"test-topic\")\n",
    "\n",
    "print(sample1)"
   ]
  },
  {
   "cell_type": "markdown",
   "metadata": {
    "application/vnd.databricks.v1+cell": {
     "cellMetadata": {
      "byteLimit": 2048000,
      "rowLimit": 10000
     },
     "inputWidgets": {},
     "nuid": "25faaf35-750f-4d60-8f75-c3fd09ae0d31",
     "showTitle": false,
     "title": ""
    }
   },
   "source": [
    "### 2.2.2. Create a dataframe from sample data"
   ]
  },
  {
   "cell_type": "code",
   "execution_count": null,
   "metadata": {
    "application/vnd.databricks.v1+cell": {
     "cellMetadata": {
      "byteLimit": 2048000,
      "rowLimit": 10000
     },
     "inputWidgets": {},
     "nuid": "55b61e2e-92ac-48f9-9899-a7c53b4afa0c",
     "showTitle": false,
     "title": ""
    }
   },
   "outputs": [],
   "source": [
    "df = spark.createDataFrame([sample1, sample2, sample3])"
   ]
  },
  {
   "cell_type": "code",
   "execution_count": null,
   "metadata": {
    "application/vnd.databricks.v1+cell": {
     "cellMetadata": {
      "byteLimit": 2048000,
      "rowLimit": 10000
     },
     "inputWidgets": {},
     "nuid": "630d57b7-24ba-4201-b115-488d1affcd18",
     "showTitle": false,
     "title": ""
    }
   },
   "outputs": [
    {
     "name": "stdout",
     "output_type": "stream",
     "text": [
      "+---+--------------------+----------+\n",
      "|key|               value|     topic|\n",
      "+---+--------------------+----------+\n",
      "|  1|{\"name\": \"Jane Do...|test-topic|\n",
      "|  2|{\"name\": \"Fatih\",...|test-topic|\n",
      "|  3|{\"name\": \"John Do...|test-topic|\n",
      "+---+--------------------+----------+\n",
      "\n"
     ]
    }
   ],
   "source": [
    "df.show()"
   ]
  },
  {
   "cell_type": "code",
   "execution_count": null,
   "metadata": {
    "application/vnd.databricks.v1+cell": {
     "cellMetadata": {
      "byteLimit": 2048000,
      "rowLimit": 10000
     },
     "inputWidgets": {},
     "nuid": "7298828c-fa79-4da9-aa91-9a3db259eb17",
     "showTitle": false,
     "title": ""
    }
   },
   "outputs": [
    {
     "data": {
      "text/html": [
       "<style scoped>\n",
       "  .table-result-container {\n",
       "    max-height: 300px;\n",
       "    overflow: auto;\n",
       "  }\n",
       "  table, th, td {\n",
       "    border: 1px solid black;\n",
       "    border-collapse: collapse;\n",
       "  }\n",
       "  th, td {\n",
       "    padding: 5px;\n",
       "  }\n",
       "  th {\n",
       "    text-align: left;\n",
       "  }\n",
       "</style><div class='table-result-container'><table class='table-result'><thead style='background-color: white'><tr><th>key</th><th>value</th><th>topic</th></tr></thead><tbody><tr><td>1</td><td>{\"name\": \"Jane Doe\", \"age\": 29, \"email\": \"jane.doe@gmail.com\"}</td><td>test-topic</td></tr><tr><td>2</td><td>{\"name\": \"Fatih\", \"age\": 24, \"email\": \"f.nayebi@gmail.com\"}</td><td>test-topic</td></tr><tr><td>3</td><td>{\"name\": \"John Doe\", \"age\": 35, \"email\": \"john.doe@gmail.com\"}</td><td>test-topic</td></tr></tbody></table></div>"
      ]
     },
     "metadata": {
      "application/vnd.databricks.v1+output": {
       "addedWidgets": {},
       "aggData": [],
       "aggError": "",
       "aggOverflow": false,
       "aggSchema": [],
       "aggSeriesLimitReached": false,
       "aggType": "",
       "arguments": {},
       "columnCustomDisplayInfos": {},
       "data": [
        [
         "1",
         "{\"name\": \"Jane Doe\", \"age\": 29, \"email\": \"jane.doe@gmail.com\"}",
         "test-topic"
        ],
        [
         "2",
         "{\"name\": \"Fatih\", \"age\": 24, \"email\": \"f.nayebi@gmail.com\"}",
         "test-topic"
        ],
        [
         "3",
         "{\"name\": \"John Doe\", \"age\": 35, \"email\": \"john.doe@gmail.com\"}",
         "test-topic"
        ]
       ],
       "datasetInfos": [],
       "dbfsResultPath": null,
       "isJsonSchema": true,
       "metadata": {},
       "overflow": false,
       "plotOptions": {
        "customPlotOptions": {},
        "displayType": "table",
        "pivotAggregation": null,
        "pivotColumns": null,
        "xColumns": null,
        "yColumns": null
       },
       "removedWidgets": [],
       "schema": [
        {
         "metadata": "{}",
         "name": "key",
         "type": "\"string\""
        },
        {
         "metadata": "{}",
         "name": "value",
         "type": "\"string\""
        },
        {
         "metadata": "{}",
         "name": "topic",
         "type": "\"string\""
        }
       ],
       "type": "table"
      }
     },
     "output_type": "display_data"
    }
   ],
   "source": [
    "display(df)"
   ]
  },
  {
   "cell_type": "markdown",
   "metadata": {
    "application/vnd.databricks.v1+cell": {
     "cellMetadata": {
      "byteLimit": 2048000,
      "rowLimit": 10000
     },
     "inputWidgets": {},
     "nuid": "1032bd3c-9a10-489f-9775-72c08a96ee61",
     "showTitle": false,
     "title": ""
    }
   },
   "source": [
    "### 2.2.3. Write data from a dataframe to a confluent kafka topic"
   ]
  },
  {
   "cell_type": "code",
   "execution_count": null,
   "metadata": {
    "application/vnd.databricks.v1+cell": {
     "cellMetadata": {
      "byteLimit": 2048000,
      "rowLimit": 10000
     },
     "inputWidgets": {},
     "nuid": "8f8f6496-36d6-4ab1-a413-5f19d2780c58",
     "showTitle": false,
     "title": ""
    }
   },
   "outputs": [],
   "source": [
    "# Write key-value data from a DataFrame to a specific Kafka topic specified in an option\n",
    "ds = df.selectExpr(\"CAST(key AS STRING)\", \"CAST(value AS STRING)\")\\\n",
    "    .write.format(\"kafka\")\\\n",
    "    .option(\"kafka.bootstrap.servers\", bootstrap_servers)\\\n",
    "    .option(\"subscribe\", topic_name)\\\n",
    "    .option(\"kafka.security.protocol\",\"SASL_SSL\")\\\n",
    "    .option(\"kafka.sasl.mechanism\", \"PLAIN\")\\\n",
    "    .option(\"kafka.sasl.jaas.config\", \"kafkashaded.org.apache.kafka.common.security.plain.PlainLoginModule required username=\\\"DMEFD5LIKVBOJCWD\\\" password=\\\"mUEgMQvRZHnL4ZqtkTUww6Dywxxr9HoDmmgzYW6jRGumni3FrstD3c0ERxplHc8j\\\";\")\\\n",
    "    .option(\"topic\", topic_name)\\\n",
    "    .save()"
   ]
  },
  {
   "cell_type": "markdown",
   "metadata": {
    "application/vnd.databricks.v1+cell": {
     "cellMetadata": {
      "byteLimit": 2048000,
      "rowLimit": 10000
     },
     "inputWidgets": {},
     "nuid": "e87bc72f-c162-4165-8e80-c00d3398554c",
     "showTitle": false,
     "title": ""
    }
   },
   "source": [
    "# 3. Stream Processing"
   ]
  },
  {
   "cell_type": "markdown",
   "metadata": {
    "application/vnd.databricks.v1+cell": {
     "cellMetadata": {
      "byteLimit": 2048000,
      "rowLimit": 10000
     },
     "inputWidgets": {},
     "nuid": "0aada184-73b5-4d6f-b156-7718e70448bb",
     "showTitle": false,
     "title": ""
    }
   },
   "source": [
    "## 3.1. Read a stream from Kafka"
   ]
  },
  {
   "cell_type": "code",
   "execution_count": null,
   "metadata": {
    "application/vnd.databricks.v1+cell": {
     "cellMetadata": {
      "byteLimit": 2048000,
      "rowLimit": 10000
     },
     "inputWidgets": {},
     "nuid": "8eddd6d6-2e27-45d0-b0f3-3a8ea4d00e9e",
     "showTitle": false,
     "title": ""
    }
   },
   "outputs": [],
   "source": [
    "df_stream = spark \\\n",
    "    .readStream \\\n",
    "    .format(\"kafka\") \\\n",
    "    .option(\"kafka.bootstrap.servers\", bootstrap_servers)\\\n",
    "    .option(\"subscribe\", topic_name)\\\n",
    "    .option(\"kafka.security.protocol\",\"SASL_SSL\")\\\n",
    "    .option(\"kafka.sasl.mechanism\", \"PLAIN\")\\\n",
    "    .option(\"kafka.sasl.jaas.config\", \"kafkashaded.org.apache.kafka.common.security.plain.PlainLoginModule required username=\\\"DMEFD5LIKVBOJCWD\\\" password=\\\"mUEgMQvRZHnL4ZqtkTUww6Dywxxr9HoDmmgzYW6jRGumni3FrstD3c0ERxplHc8j\\\";\")\\\n",
    "    .load() \\\n",
    "\n",
    "display(df_stream)"
   ]
  },
  {
   "cell_type": "markdown",
   "metadata": {
    "application/vnd.databricks.v1+cell": {
     "cellMetadata": {
      "byteLimit": 2048000,
      "rowLimit": 10000
     },
     "inputWidgets": {},
     "nuid": "c399221a-0f0b-4895-9c60-2d7c53b855a8",
     "showTitle": false,
     "title": ""
    }
   },
   "source": [
    "## 3.2. Write a Kafka sink for streaming queries"
   ]
  },
  {
   "cell_type": "code",
   "execution_count": null,
   "metadata": {
    "application/vnd.databricks.v1+cell": {
     "cellMetadata": {
      "byteLimit": 2048000,
      "rowLimit": 10000
     },
     "inputWidgets": {},
     "nuid": "af7f9fff-48c9-4a78-88a2-ec6bd8923fb6",
     "showTitle": false,
     "title": ""
    }
   },
   "outputs": [],
   "source": [
    "# Write key-value data from a DataFrame to a specific Kafka topic specified in an option\n",
    "ds = df_stream \\\n",
    "  .selectExpr(\"CAST(key AS STRING)\", \"CAST(value AS STRING)\") \\\n",
    "  .writeStream \\\n",
    "  .format(\"kafka\") \\\n",
    "    .option(\"kafka.bootstrap.servers\", bootstrap_servers)\\\n",
    "    .option(\"subscribe\", topic_name)\\\n",
    "    .option(\"kafka.security.protocol\",\"SASL_SSL\")\\\n",
    "    .option(\"kafka.sasl.mechanism\", \"PLAIN\")\\\n",
    "    .option(\"kafka.sasl.jaas.config\", \"kafkashaded.org.apache.kafka.common.security.plain.PlainLoginModule required username=\\\"DMEFD5LIKVBOJCWD\\\" password=\\\"mUEgMQvRZHnL4ZqtkTUww6Dywxxr9HoDmmgzYW6jRGumni3FrstD3c0ERxplHc8j\\\";\")\\\n",
    "  .option(\"topic\", \"databricks_test\") \\\n",
    "  .option(\"checkpointLocation\", \"/dbfs/dir\") \\\n",
    "  .start()"
   ]
  }
 ],
 "metadata": {
  "application/vnd.databricks.v1+notebook": {
   "dashboards": [],
   "language": "python",
   "notebookMetadata": {
    "pythonIndentUnit": 4
   },
   "notebookName": "Kafka-spark-2022 (1)",
   "widgets": {}
  },
  "kernelspec": {
   "display_name": "base",
   "language": "python",
   "name": "python3"
  },
  "language_info": {
   "name": "python",
   "version": "3.11.5"
  },
  "name": "Kafka-spark",
  "notebookId": 250246357806386
 },
 "nbformat": 4,
 "nbformat_minor": 0
}
